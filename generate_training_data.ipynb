{
 "cells": [
  {
   "cell_type": "markdown",
   "metadata": {},
   "source": [
    "# Description"
   ]
  },
  {
   "cell_type": "markdown",
   "metadata": {},
   "source": [
    "Data generator notebook for PrototypicalNetworkTUF. The notebook generates two data sets"
   ]
  },
  {
   "cell_type": "markdown",
   "metadata": {},
   "source": [
    "- A support data set\n",
    "- A query data set"
   ]
  },
  {
   "cell_type": "markdown",
   "metadata": {},
   "source": [
    "both contain the labels. The support data set has significantly less data points than the query data set. \n",
    "The two sets are stored as CSV files in the path specified by the ```SAVE_DATA_PATH``` variable. Similarly, the sets are stored respectively in the variables ```SAVE_SUPPORT_SET_FILENAME``` and ```SAVE_QUERY_SET_FILENAME```. The number of shots i.e the number of examples per class in the support set is given by the ```N_SHOTS``` variable. The rest of the examples for the class go in the  query set."
   ]
  },
  {
   "cell_type": "markdown",
   "metadata": {},
   "source": [
    "## Imports"
   ]
  },
  {
   "cell_type": "code",
   "execution_count": 33,
   "metadata": {},
   "outputs": [],
   "source": [
    "import sys\n",
    "import numpy as np\n",
    "import seaborn as sns\n",
    "import matplotlib.pyplot as plt\n",
    "import csv\n",
    "from sklearn import mixture"
   ]
  },
  {
   "cell_type": "code",
   "execution_count": 34,
   "metadata": {},
   "outputs": [],
   "source": [
    "sns.set(color_codes=True)"
   ]
  },
  {
   "cell_type": "code",
   "execution_count": 35,
   "metadata": {},
   "outputs": [],
   "source": [
    "from utils import load_data_file\n",
    "from utils import make_data_array\n",
    "from utils import INFO"
   ]
  },
  {
   "cell_type": "markdown",
   "metadata": {},
   "source": [
    "## Constants"
   ]
  },
  {
   "cell_type": "code",
   "execution_count": 36,
   "metadata": {},
   "outputs": [],
   "source": [
    "# file paths and filenames\n",
    "SAVE_DATA_PATH = \"/home/alex/qi3/few_shot_learning_dna/data/train/proto/\"\n",
    "SAVE_SUPPORT_SET_FILENAME = \"proto_support.csv\"\n",
    "SAVE_QUERY_SET_FILENAME = \"proto_query.csv\""
   ]
  },
  {
   "cell_type": "code",
   "execution_count": 37,
   "metadata": {},
   "outputs": [],
   "source": [
    "# number of examples per class to store in the \n",
    "# support set\n",
    "N_SHOTS = 10"
   ]
  },
  {
   "cell_type": "code",
   "execution_count": 9,
   "metadata": {},
   "outputs": [],
   "source": [
    "# various variables used in the GMM clustering model\n",
    "NUM_CLUSTERS=5\n",
    "COVARIANCE_TYPE = 'diag'\n",
    "MAX_ITRS=1000\n",
    "TOL=1.0e-5\n",
    "N_INIT=1\n",
    "TUF_NUM_CLUSTERS=3\n",
    "COLORS = np.array(['green', 'blue', 'red',\n",
    "                   'yellow', 'pink', 'orange', \n",
    "                   'purple', 'navy', 'brown'])\n",
    "\n",
    "# add black color for outliers (if any)\n",
    "COLORS = np.append(COLORS, [\"#000000\"])"
   ]
  },
  {
   "cell_type": "markdown",
   "metadata": {},
   "source": [
    "### Load the data"
   ]
  },
  {
   "cell_type": "code",
   "execution_count": 10,
   "metadata": {},
   "outputs": [],
   "source": [
    "# TUF region data\n",
    "wga_mu_tuf_file = \"data/train/raw/wga_windows_mean_0_TUF_I_CHR_1_MEAN_CUTOFF.txt\"\n",
    "nowga_mu_tuf_file = \"data/train/raw/no_wga_windows_mean_0_TUF_I_CHR_1_MEAN_CUTOFF.txt\"\n",
    "\n",
    "# single copy deletion data\n",
    "wga_mu_single_copy_del_file = \"data/train/raw/wga_windows_mean_0_SINGLE_COPY_DELETION_CHR_2_MEAN_CUTOFF.txt\"\n",
    "nowga_mu_single_copy_del_file = \"data/train/raw/no_wga_windows_mean_0_SINGLE_COPY_DELETION_CHR_2_MEAN_CUTOFF.txt\"\n",
    "\n",
    "# duplication data\n",
    "wga_mu_duplication_file = \"data/train/raw/wga_windows_mean_0_DUPLICATION_CHR_1_MEAN_CUTOFF.txt\"\n",
    "nowga_mu_duplication_file = \"data/train/raw/no_wga_windows_mean_0_DUPLICATION_CHR_1_MEAN_CUTOFF.txt\"\n",
    "\n",
    "# full copy deletion data\n",
    "wga_mu_del_file = \"data/train/raw/wga_windows_mean_0_DELETE_CHR_1_MEAN_CUTOFF.txt\"\n",
    "nowga_mu_del_file = \"data/train/raw/no_wga_windows_mean_0_DELETE_CHR_1_MEAN_CUTOFF.txt\""
   ]
  },
  {
   "cell_type": "code",
   "execution_count": 11,
   "metadata": {},
   "outputs": [],
   "source": [
    "wga_mu_tuf = load_data_file(filename=wga_mu_tuf_file, type_convert=\"FLOAT\")\n",
    "nowga_mu_tuf = load_data_file(filename=nowga_mu_tuf_file, type_convert=\"FLOAT\")\n",
    "\n",
    "assert len(wga_mu_tuf) == len(nowga_mu_tuf), \"Invalid data size for TUF data\"\n",
    "\n",
    "wga_mu_single_copy_del = load_data_file(filename=wga_mu_single_copy_del_file, \n",
    "                                             type_convert=\"FLOAT\")\n",
    "nowga_mu_single_copy_del = load_data_file(filename=nowga_mu_single_copy_del_file, \n",
    "                                                type_convert=\"FLOAT\")\n",
    "\n",
    "assert len(wga_mu_single_copy_del) == len(nowga_mu_single_copy_del), \\\n",
    "\"Invalid data size for single copy deletion data\"\n",
    "\n",
    "wga_mu_duplication = load_data_file(filename=wga_mu_duplication_file, type_convert=\"FLOAT\")\n",
    "nowga_mu_duplication = load_data_file(filename=nowga_mu_duplication_file, type_convert=\"FLOAT\")\n",
    "\n",
    "assert len(wga_mu_duplication) == len(nowga_mu_duplication), \"Invalid data size for duplication data\"\n",
    "\n",
    "wga_mu_del = load_data_file(filename=wga_mu_del_file, type_convert=\"FLOAT\")\n",
    "nowga_mu_del = load_data_file(filename=nowga_mu_del_file, type_convert=\"FLOAT\")\n",
    "\n",
    "assert len(wga_mu_del) == len(nowga_mu_del), \"Invalid data size for full deletion data\""
   ]
  },
  {
   "cell_type": "markdown",
   "metadata": {},
   "source": [
    "### Mix the data"
   ]
  },
  {
   "cell_type": "code",
   "execution_count": 12,
   "metadata": {},
   "outputs": [],
   "source": [
    "\n",
    "# WGA sample\n",
    "wga_mu = []\n",
    "wga_mu.extend(wga_mu_single_copy_del)\n",
    "wga_mu.extend(wga_mu_duplication)\n",
    "wga_mu.extend(wga_mu_del)\n",
    "\n",
    "\n",
    "# NO-WGA sample\n",
    "no_wga_mu = []\n",
    "no_wga_mu.extend(nowga_mu_single_copy_del)\n",
    "no_wga_mu.extend(nowga_mu_duplication)\n",
    "no_wga_mu.extend(nowga_mu_del)"
   ]
  },
  {
   "cell_type": "markdown",
   "metadata": {},
   "source": [
    "### Cluster the reference data"
   ]
  },
  {
   "cell_type": "markdown",
   "metadata": {},
   "source": [
    "### GMM clustering"
   ]
  },
  {
   "cell_type": "code",
   "execution_count": 13,
   "metadata": {},
   "outputs": [],
   "source": [
    "# Dictionay that holds the states for the HMM \n",
    "#states={}"
   ]
  },
  {
   "cell_type": "code",
   "execution_count": 14,
   "metadata": {},
   "outputs": [],
   "source": [
    "data = make_data_array(wga_mu=wga_mu, \n",
    "                       no_wga_mu=no_wga_mu, gc=None, \n",
    "                       use_ratio=False, use_gc=False)\n",
    "\n",
    "data = np.array(data)\n",
    "\n",
    "assert data.shape == (len(wga_mu), 2)"
   ]
  },
  {
   "cell_type": "code",
   "execution_count": 15,
   "metadata": {},
   "outputs": [
    {
     "data": {
      "text/plain": [
       "GaussianMixture(covariance_type='diag', max_iter=1000, n_components=5,\n",
       "                tol=1e-05)"
      ]
     },
     "execution_count": 15,
     "metadata": {},
     "output_type": "execute_result"
    }
   ],
   "source": [
    "# the GMM cluster\n",
    "gmm = mixture.GaussianMixture(n_components=NUM_CLUSTERS,\n",
    "                              covariance_type=COVARIANCE_TYPE,\n",
    "                              tol=TOL, max_iter=MAX_ITRS, n_init=N_INIT)\n",
    "\n",
    "# fit the data\n",
    "gmm.fit(data)\n",
    "   "
   ]
  },
  {
   "cell_type": "code",
   "execution_count": 16,
   "metadata": {},
   "outputs": [
    {
     "name": "stdout",
     "output_type": "stream",
     "text": [
      "INFO:  GMM converged? True\n",
      "INFO:  GMM BIC metric 162882.30076878183\n"
     ]
    }
   ],
   "source": [
    "print(\"{0} GMM converged? {1}\".format(INFO, gmm.converged_))\n",
    "print(\"{0} GMM BIC metric {1}\".format(INFO, gmm.bic(data)))    "
   ]
  },
  {
   "cell_type": "code",
   "execution_count": 17,
   "metadata": {},
   "outputs": [
    {
     "name": "stdout",
     "output_type": "stream",
     "text": [
      "INFO:  Number of labels= 11915\n"
     ]
    }
   ],
   "source": [
    "labels = gmm.predict(data)\n",
    "print(\"{0} Number of labels= {1}\".format(INFO, len(labels)))"
   ]
  },
  {
   "cell_type": "code",
   "execution_count": 18,
   "metadata": {},
   "outputs": [
    {
     "data": {
      "image/png": "[encoded data removed]",
      "text/plain": [
       "<Figure size 432x288 with 1 Axes>"
      ]
     },
     "metadata": {},
     "output_type": "display_data"
    }
   ],
   "source": [
    "xlim=(0., 65.0)\n",
    "ylim=(0., 65.0)\n",
    "\n",
    "colors = COLORS[labels]\n",
    "\n",
    "plt.scatter(no_wga_mu, wga_mu, color=colors)\n",
    "plt.xlabel(\"NO-WGA \")\n",
    "plt.ylabel(\"WGA\")\n",
    "plt.xlim(xlim)\n",
    "plt.ylim(ylim)\n",
    "plt.show()\n"
   ]
  },
  {
   "cell_type": "code",
   "execution_count": 19,
   "metadata": {},
   "outputs": [
    {
     "name": "stdout",
     "output_type": "stream",
     "text": [
      "INFO:  Color-Component association: {'green': [0, 7604], 'yellow': [3, 1551], 'blue': [1, 1897], 'pink': [4, 485], 'red': [2, 378]}\n"
     ]
    }
   ],
   "source": [
    "# map that holds the association between the\n",
    "# component color and component index\n",
    "\n",
    "color_comp_assoc = {}\n",
    "for label, color in zip(labels, colors):\n",
    "    if color in color_comp_assoc.keys():\n",
    "        assert color_comp_assoc[color][0] == label\n",
    "        color_comp_assoc[color][1] += 1\n",
    "    else:\n",
    "        color_comp_assoc[color] = [label, 1]\n",
    "        \n",
    "print(\"{0} Color-Component association: {1}\".format(INFO, color_comp_assoc))"
   ]
  },
  {
   "cell_type": "code",
   "execution_count": 20,
   "metadata": {},
   "outputs": [
    {
     "name": "stdout",
     "output_type": "stream",
     "text": [
      "INFO:  Component 0 mu's [17.91839586 15.70068199] \n",
      "INFO:  Component 1 mu's [19.29475984 27.15922904] \n",
      "INFO:  Component 2 mu's [0.0764719  0.13421094] \n",
      "INFO:  Component 3 mu's [36.26686975 24.47550828] \n",
      "INFO:  Component 4 mu's [4.73769001 4.54320524] \n"
     ]
    }
   ],
   "source": [
    "means = gmm.means_\n",
    "\n",
    "for i in range(len(means)):\n",
    "    print(\"{0} Component {1} mu's {2} \".format(INFO, i , means[i]))"
   ]
  },
  {
   "cell_type": "code",
   "execution_count": 21,
   "metadata": {},
   "outputs": [],
   "source": [
    "csv_data = {\"Duplicate\": 3, 'Full-Delete': 2, 'Normal-1': 0, \"Normal-2\": 1, \"Single-Delete\": 4 }"
   ]
  },
  {
   "cell_type": "markdown",
   "metadata": {},
   "source": [
    "### Cluster for TUF"
   ]
  },
  {
   "cell_type": "code",
   "execution_count": 22,
   "metadata": {},
   "outputs": [],
   "source": [
    "tuf_wga_mu = []\n",
    "tuf_wga_mu.extend(wga_mu_tuf)\n",
    "\n",
    "tuf_nowga_mu = []\n",
    "tuf_nowga_mu.extend(nowga_mu_tuf)"
   ]
  },
  {
   "cell_type": "code",
   "execution_count": 23,
   "metadata": {},
   "outputs": [],
   "source": [
    "tuf_data = make_data_array(wga_mu=tuf_wga_mu, \n",
    "                           no_wga_mu=tuf_nowga_mu, gc=None, \n",
    "                           use_ratio=True, use_gc=False)\n",
    "\n",
    "tuf_data = np.array(tuf_data)\n",
    "\n",
    "assert tuf_data.shape == (len(tuf_wga_mu), 3)"
   ]
  },
  {
   "cell_type": "code",
   "execution_count": 24,
   "metadata": {},
   "outputs": [
    {
     "data": {
      "text/plain": [
       "GaussianMixture(covariance_type='diag', max_iter=1000, n_components=3,\n",
       "                tol=1e-05)"
      ]
     },
     "execution_count": 24,
     "metadata": {},
     "output_type": "execute_result"
    }
   ],
   "source": [
    "# the GMM cluster\n",
    "tuf_gmm = mixture.GaussianMixture(n_components=TUF_NUM_CLUSTERS,\n",
    "                                  covariance_type=COVARIANCE_TYPE,\n",
    "                                  tol=TOL, \n",
    "                                  max_iter=MAX_ITRS, n_init=N_INIT)\n",
    "\n",
    "# fit the data\n",
    "tuf_gmm.fit(tuf_data)"
   ]
  },
  {
   "cell_type": "code",
   "execution_count": 25,
   "metadata": {},
   "outputs": [
    {
     "name": "stdout",
     "output_type": "stream",
     "text": [
      "INFO:  GMM converged? True\n",
      "INFO:  GMM BIC metric 16196.753045051328\n"
     ]
    }
   ],
   "source": [
    "print(\"{0} GMM converged? {1}\".format(INFO, tuf_gmm.converged_))\n",
    "print(\"{0} GMM BIC metric {1}\".format(INFO, tuf_gmm.bic(tuf_data)))  "
   ]
  },
  {
   "cell_type": "code",
   "execution_count": 26,
   "metadata": {},
   "outputs": [
    {
     "name": "stdout",
     "output_type": "stream",
     "text": [
      "INFO:  Number of labels= 1260\n"
     ]
    }
   ],
   "source": [
    "tuf_labels = tuf_gmm.predict(tuf_data)\n",
    "print(\"{0} Number of labels= {1}\".format(INFO, len(tuf_labels)))"
   ]
  },
  {
   "cell_type": "code",
   "execution_count": 27,
   "metadata": {},
   "outputs": [
    {
     "data": {
      "image/png": "[encoded data removed]",
      "text/plain": [
       "<Figure size 432x288 with 1 Axes>"
      ]
     },
     "metadata": {},
     "output_type": "display_data"
    }
   ],
   "source": [
    "xlim=(0., 65.0)\n",
    "ylim=(0., 65.0)\n",
    "\n",
    "colors = COLORS[tuf_labels]\n",
    "\n",
    "plt.scatter(tuf_nowga_mu, tuf_wga_mu, color=colors)\n",
    "plt.xlabel(\"NO-WGA \")\n",
    "plt.ylabel(\"WGA\")\n",
    "plt.xlim(xlim)\n",
    "plt.ylim(ylim)\n",
    "plt.show()\n"
   ]
  },
  {
   "cell_type": "code",
   "execution_count": 28,
   "metadata": {},
   "outputs": [
    {
     "name": "stdout",
     "output_type": "stream",
     "text": [
      "INFO:  TUF Color-cluster association={'red': [2, 193], 'blue': [1, 882], 'green': [0, 185]}\n"
     ]
    }
   ],
   "source": [
    "# map that holds the association between the\n",
    "# component color and component index\n",
    "\n",
    "tuf_color_comp_assoc = {}\n",
    "for label, color in zip(tuf_labels, colors):\n",
    "    if color in tuf_color_comp_assoc.keys():\n",
    "        assert tuf_color_comp_assoc[color][0] == label\n",
    "        tuf_color_comp_assoc[color][1] += 1\n",
    "    else:\n",
    "        tuf_color_comp_assoc[color] = [label, 1]\n",
    "\n",
    "print(\"{0} TUF Color-cluster association={1}\".format(INFO, tuf_color_comp_assoc))"
   ]
  },
  {
   "cell_type": "code",
   "execution_count": 29,
   "metadata": {},
   "outputs": [],
   "source": [
    "csv_data_tuf = {'TUF': 0}"
   ]
  },
  {
   "cell_type": "markdown",
   "metadata": {},
   "source": [
    "### Save the data"
   ]
  },
  {
   "cell_type": "code",
   "execution_count": 39,
   "metadata": {},
   "outputs": [],
   "source": [
    "with open(SAVE_DATA_PATH + SAVE_SUPPORT_SET_FILENAME, 'w', newline='\\n') as csvfile_support_set:\n",
    "    \n",
    "    # the writer of the support set\n",
    "    csv_writer_support = csv.writer(csvfile_support_set, delimiter=',')\n",
    "    \n",
    "    # write an informative header\n",
    "    csv_writer_support.writerow(['#', \n",
    "                                 'C:'+str(len(csv_data) + len(csv_data_tuf)),\n",
    "                                 'K:'+str(N_SHOTS)])\n",
    "    \n",
    "    with open(SAVE_DATA_PATH + SAVE_QUERY_SET_FILENAME, 'w', newline='\\n') as csvfile_query_set:\n",
    "        \n",
    "        # the writer of the support set\n",
    "        csv_writer_query = csv.writer(csvfile_query_set, delimiter=',')\n",
    "        \n",
    "        # write an informative header\n",
    "        csv_writer_query.writerow(['#', \n",
    "                                     'C:'+str(len(csv_data) + len(csv_data_tuf)),\n",
    "                                     'K:'+str(N_SHOTS)])\n",
    "    \n",
    "    \n",
    "    \n",
    "        # write the data for rest of classes\n",
    "        for item in csv_data:\n",
    "            name = item\n",
    "            label = csv_data[item]\n",
    "\n",
    "            class_items = 0\n",
    "            for idx in range(len(labels)):\n",
    "                if labels[idx] == label:\n",
    "\n",
    "                    # form the row to write\n",
    "                    row = [data[idx][0], data[idx][1] , name]\n",
    "                    \n",
    "                    if class_items < N_SHOTS:\n",
    "                        csv_writer_support.writerow(row)\n",
    "                        class_items += 1\n",
    "                    else:\n",
    "                         csv_writer_query.writerow(row)\n",
    "\n",
    "        # write the data for TUF\n",
    "        for item in csv_data_tuf:\n",
    "            name = item\n",
    "            label= csv_data_tuf[item]\n",
    "\n",
    "            class_items = 0\n",
    "            for idx in range(len(tuf_labels)):\n",
    "                if tuf_labels[idx] == label:\n",
    "                    \n",
    "                    row = [tuf_data[idx][0], tuf_data[idx][1] , name]\n",
    "                    \n",
    "                    if class_items < N_SHOTS:\n",
    "                        csv_writer_support.writerow(row)\n",
    "                        class_items += 1\n",
    "                    else:\n",
    "                        csv_writer_query.writerow(row)\n",
    "                        \n",
    "                    \n",
    "    \n",
    "    "
   ]
  },
  {
   "cell_type": "code",
   "execution_count": null,
   "metadata": {},
   "outputs": [],
   "source": []
  }
 ],
 "metadata": {
  "kernelspec": {
   "display_name": "Python 3",
   "language": "python",
   "name": "python3"
  },
  "language_info": {
   "codemirror_mode": {
    "name": "ipython",
    "version": 3
   },
   "file_extension": ".py",
   "mimetype": "text/x-python",
   "name": "python",
   "nbconvert_exporter": "python",
   "pygments_lexer": "ipython3",
   "version": "3.8.5"
  }
 },
 "nbformat": 4,
 "nbformat_minor": 4
}
